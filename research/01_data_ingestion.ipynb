{
 "cells": [
  {
   "cell_type": "code",
   "execution_count": 1,
   "metadata": {},
   "outputs": [],
   "source": [
    "import os"
   ]
  },
  {
   "cell_type": "code",
   "execution_count": 8,
   "metadata": {},
   "outputs": [
    {
     "data": {
      "text/plain": [
       "'c:\\\\Users\\\\harsh\\\\OneDrive\\\\Desktop\\\\Job\\\\ResumeProjects\\\\SterileBrowsing\\\\SterileBrowsingMedicalImgs'"
      ]
     },
     "execution_count": 8,
     "metadata": {},
     "output_type": "execute_result"
    }
   ],
   "source": [
    "pwd"
   ]
  },
  {
   "cell_type": "code",
   "execution_count": 3,
   "metadata": {},
   "outputs": [],
   "source": [
    "os.chdir('../')"
   ]
  },
  {
   "cell_type": "code",
   "execution_count": 4,
   "metadata": {},
   "outputs": [],
   "source": [
    "from dataclasses import dataclass\n",
    "from pathlib import Path\n",
    "@dataclass(frozen=True)\n",
    "class DataIngestionConfig:\n",
    "    root_dir: Path\n",
    "    source_URL: str\n",
    "    local_data_file: Path\n",
    "    unzip_dir: Path"
   ]
  },
  {
   "cell_type": "code",
   "execution_count": 6,
   "metadata": {},
   "outputs": [],
   "source": [
    "from cnnImageClassification.constants import *\n",
    "from cnnImageClassification.utils.common import read_yaml, create_directories"
   ]
  },
  {
   "cell_type": "code",
   "execution_count": 14,
   "metadata": {},
   "outputs": [],
   "source": [
    "class ConfigManager:\n",
    "    def __init__(\n",
    "            self, \n",
    "            config__filepath = CONFIG_FILE_PATH,\n",
    "            params_filepath = PARAMS_FILE_PATH):\n",
    "        self.config = read_yaml(config__filepath)\n",
    "        self.params = read_yaml(params_filepath)\n",
    "\n",
    "        create_directories([self.config.artifacts_root]) \n",
    "    \n",
    "    def get_data_ingestion_config(self) -> DataIngestionConfig:\n",
    "        config = self.config.data_ingestion\n",
    "        create_directories([config.root_dir])\n",
    "        return DataIngestionConfig(\n",
    "            root_dir = config.root_dir,\n",
    "            source_URL = config.source_URL,\n",
    "            local_data_file = config.local_data_file,\n",
    "            unzip_dir = config.unzip_dir\n",
    "        )"
   ]
  },
  {
   "cell_type": "code",
   "execution_count": 15,
   "metadata": {},
   "outputs": [],
   "source": [
    "import os\n",
    "import urllib.request as request\n",
    "import zipfile\n",
    "from cnnImageClassification import logger\n",
    "from cnnImageClassification.utils.common import get_size"
   ]
  },
  {
   "cell_type": "code",
   "execution_count": 16,
   "metadata": {},
   "outputs": [],
   "source": [
    "class DataIngestion:\n",
    "    def __init__(self, config: DataIngestionConfig):\n",
    "        self.config = config\n",
    "    \n",
    "\n",
    "    def download_file(self):\n",
    "        if not os.path.exists(self.config.local_data_file):\n",
    "            file_name, headers = request.urlretrieve(url=self.config.source_URL, filename=self.config.local_data_file)\n",
    "            logger.info(f\"Downloading file{file_name} with info {headers}\")\n",
    "        else:\n",
    "            logger.info(f\"File already exists with size {get_size(Path(self.config.local_data_file))}\")\n",
    "    \n",
    "    def extract_zip_file(self):\n",
    "        \"\"\"\n",
    "        zip_file_path: str\n",
    "        Download the zip file from the source URL\n",
    "        return None\n",
    "        \"\"\"\n",
    "        unzip_path = self.config.unzip_dir\n",
    "        os.makedirs(unzip_path, exist_ok=True)\n",
    "        with zipfile.ZipFile(self.config.local_data_file, 'r') as zip_ref:\n",
    "            zip_ref.extractall(unzip_path)        \n",
    "\n"
   ]
  },
  {
   "cell_type": "code",
   "execution_count": 18,
   "metadata": {},
   "outputs": [
    {
     "name": "stdout",
     "output_type": "stream",
     "text": [
      "[2024-10-28 12:29:25,201: INFO: common{c:\\users\\harsh\\onedrive\\desktop\\job\\resumeprojects\\sterilebrowsing\\sterilebrowsingmedicalimgs\\src\\cnnImageClassification\\utils\\common.py: Reading yaml file from config\\config.yaml loaded suucessfully]\n",
      "[2024-10-28 12:29:25,203: INFO: common{c:\\users\\harsh\\onedrive\\desktop\\job\\resumeprojects\\sterilebrowsing\\sterilebrowsingmedicalimgs\\src\\cnnImageClassification\\utils\\common.py: Reading yaml file from params.yaml loaded suucessfully]\n",
      "[2024-10-28 12:29:25,204: INFO: common{c:\\users\\harsh\\onedrive\\desktop\\job\\resumeprojects\\sterilebrowsing\\sterilebrowsingmedicalimgs\\src\\cnnImageClassification\\utils\\common.py: Directory created at artifacts]\n",
      "[2024-10-28 12:29:25,205: INFO: common{c:\\users\\harsh\\onedrive\\desktop\\job\\resumeprojects\\sterilebrowsing\\sterilebrowsingmedicalimgs\\src\\cnnImageClassification\\utils\\common.py: Directory created at artifacts/data_ingestion]\n",
      "[2024-10-28 12:29:26,609: INFO: 2400813467{C:\\Users\\harsh\\AppData\\Local\\Temp\\ipykernel_9808\\2400813467.py: Downloading fileartifacts/data_ingestion/Dataset.zip with info Connection: close\n",
      "Content-Length: 2272657\n",
      "Cache-Control: max-age=300\n",
      "Content-Security-Policy: default-src 'none'; style-src 'unsafe-inline'; sandbox\n",
      "Content-Type: application/zip\n",
      "ETag: \"abc7460b09b0022bf31cba82c709955bf72bc16b99792186a0e0dffe3e4cbc3b\"\n",
      "Strict-Transport-Security: max-age=31536000\n",
      "X-Content-Type-Options: nosniff\n",
      "X-Frame-Options: deny\n",
      "X-XSS-Protection: 1; mode=block\n",
      "X-GitHub-Request-Id: 2E23:2581A9:12C0CA3:1474E65:671FBBE4\n",
      "Accept-Ranges: bytes\n",
      "Date: Mon, 28 Oct 2024 16:29:26 GMT\n",
      "Via: 1.1 varnish\n",
      "X-Served-By: cache-pdk-kpdk1780078-PDK\n",
      "X-Cache: MISS\n",
      "X-Cache-Hits: 0\n",
      "X-Timer: S1730132966.329771,VS0,VE262\n",
      "Vary: Authorization,Accept-Encoding,Origin\n",
      "Access-Control-Allow-Origin: *\n",
      "Cross-Origin-Resource-Policy: cross-origin\n",
      "X-Fastly-Request-ID: 47f29dba66316c6b333d35ea1793e950bf7adfc7\n",
      "Expires: Mon, 28 Oct 2024 16:34:26 GMT\n",
      "Source-Age: 0\n",
      "\n",
      "]\n"
     ]
    }
   ],
   "source": [
    "try:\n",
    "    config = ConfigManager()\n",
    "    data_ingestion_config = config.get_data_ingestion_config()\n",
    "    data_ingestion = DataIngestion(data_ingestion_config)\n",
    "    data_ingestion.download_file()\n",
    "    data_ingestion.extract_zip_file()\n",
    "except Exception as e:\n",
    "    raise e\n"
   ]
  },
  {
   "cell_type": "code",
   "execution_count": null,
   "metadata": {},
   "outputs": [],
   "source": []
  }
 ],
 "metadata": {
  "kernelspec": {
   "display_name": "py310TFGPU",
   "language": "python",
   "name": "python3"
  },
  "language_info": {
   "codemirror_mode": {
    "name": "ipython",
    "version": 3
   },
   "file_extension": ".py",
   "mimetype": "text/x-python",
   "name": "python",
   "nbconvert_exporter": "python",
   "pygments_lexer": "ipython3",
   "version": "3.10.15"
  }
 },
 "nbformat": 4,
 "nbformat_minor": 2
}
