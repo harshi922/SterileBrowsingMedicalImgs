{
 "cells": [
  {
   "cell_type": "code",
   "execution_count": 1,
   "metadata": {},
   "outputs": [],
   "source": [
    "import os"
   ]
  },
  {
   "cell_type": "code",
   "execution_count": 2,
   "metadata": {},
   "outputs": [
    {
     "data": {
      "text/plain": [
       "'c:\\\\Users\\\\harsh\\\\OneDrive\\\\Desktop\\\\Job\\\\ResumeProjects\\\\SterileBrowsing\\\\SterileBrowsingMedicalImgs\\\\research'"
      ]
     },
     "execution_count": 2,
     "metadata": {},
     "output_type": "execute_result"
    }
   ],
   "source": [
    "pwd"
   ]
  },
  {
   "cell_type": "code",
   "execution_count": 3,
   "metadata": {},
   "outputs": [],
   "source": [
    "os.chdir('../')"
   ]
  },
  {
   "cell_type": "code",
   "execution_count": 4,
   "metadata": {},
   "outputs": [],
   "source": [
    "from dataclasses import dataclass\n",
    "from pathlib import Path\n",
    "@dataclass(frozen=True)\n",
    "class DataIngestionConfig:\n",
    "    root_dir: Path\n",
    "    source_URL: str\n",
    "    local_data_file: Path\n",
    "    unzip_dir: Path"
   ]
  },
  {
   "cell_type": "code",
   "execution_count": 5,
   "metadata": {},
   "outputs": [],
   "source": [
    "from cnnImageClassification.constants import *\n",
    "from cnnImageClassification.utils.common import read_yaml, create_directories"
   ]
  },
  {
   "cell_type": "code",
   "execution_count": 6,
   "metadata": {},
   "outputs": [],
   "source": [
    "class ConfigManager:\n",
    "    def __init__(\n",
    "            self, \n",
    "            config__filepath = CONFIG_FILE_PATH,\n",
    "            params_filepath = PARAMS_FILE_PATH):\n",
    "        self.config = read_yaml(config__filepath)\n",
    "        self.params = read_yaml(params_filepath)\n",
    "\n",
    "        create_directories([self.config.artifacts_root]) \n",
    "    \n",
    "    def get_data_ingestion_config(self) -> DataIngestionConfig:\n",
    "        config = self.config.data_ingestion\n",
    "        create_directories([config.root_dir])\n",
    "        return DataIngestionConfig(\n",
    "            root_dir = config.root_dir,\n",
    "            source_URL = config.source_URL,\n",
    "            local_data_file = config.local_data_file,\n",
    "            unzip_dir = config.unzip_dir\n",
    "        )"
   ]
  },
  {
   "cell_type": "code",
   "execution_count": 7,
   "metadata": {},
   "outputs": [],
   "source": [
    "import os\n",
    "import gdown\n",
    "import urllib.request as request\n",
    "import zipfile\n",
    "from cnnImageClassification import logger\n",
    "from cnnImageClassification.utils.common import get_size"
   ]
  },
  {
   "cell_type": "code",
   "execution_count": 8,
   "metadata": {},
   "outputs": [],
   "source": [
    "class DataIngestion:\n",
    "    def __init__(self, config: DataIngestionConfig):\n",
    "        self.config = config\n",
    "    \n",
    "\n",
    "    def download_file(self):\n",
    "        if not os.path.exists(self.config.local_data_file):\n",
    "            gdown.download(f'https://drive.google.com/uc?id={self.config.source_URL.split(\"/\")[-2]}', self.config.local_data_file, quiet=False)\n",
    "            logger.info(f\"Downloading file{self.config.local_data_file}\")\n",
    "        else:\n",
    "            print(\"self.config.source_URL\", self.config.source_URL.split('view')[-1])\n",
    "            logger.info(f\"File already exists with size {get_size(Path(self.config.local_data_file))}\")\n",
    "    \n",
    "    def extract_zip_file(self):\n",
    "        \"\"\"\n",
    "        zip_file_path: str\n",
    "        Download the zip file from the source URL\n",
    "        return None\n",
    "        \"\"\"\n",
    "        unzip_path = self.config.unzip_dir\n",
    "        os.makedirs(unzip_path, exist_ok=True)\n",
    "        with zipfile.ZipFile(self.config.local_data_file, 'r') as zip_ref:\n",
    "            zip_ref.extractall(unzip_path)        \n",
    "\n"
   ]
  },
  {
   "cell_type": "code",
   "execution_count": 9,
   "metadata": {},
   "outputs": [
    {
     "name": "stdout",
     "output_type": "stream",
     "text": [
      "[2024-10-28 18:14:59,938: INFO: common{c:\\users\\harsh\\onedrive\\desktop\\job\\resumeprojects\\sterilebrowsing\\sterilebrowsingmedicalimgs\\src\\cnnImageClassification\\utils\\common.py: Reading yaml file from config\\config.yaml loaded suucessfully]\n",
      "[2024-10-28 18:14:59,940: INFO: common{c:\\users\\harsh\\onedrive\\desktop\\job\\resumeprojects\\sterilebrowsing\\sterilebrowsingmedicalimgs\\src\\cnnImageClassification\\utils\\common.py: Reading yaml file from params.yaml loaded suucessfully]\n",
      "[2024-10-28 18:14:59,941: INFO: common{c:\\users\\harsh\\onedrive\\desktop\\job\\resumeprojects\\sterilebrowsing\\sterilebrowsingmedicalimgs\\src\\cnnImageClassification\\utils\\common.py: Directory created at artifacts]\n",
      "[2024-10-28 18:14:59,942: INFO: common{c:\\users\\harsh\\onedrive\\desktop\\job\\resumeprojects\\sterilebrowsing\\sterilebrowsingmedicalimgs\\src\\cnnImageClassification\\utils\\common.py: Directory created at artifacts/data_ingestion]\n"
     ]
    },
    {
     "name": "stderr",
     "output_type": "stream",
     "text": [
      "Downloading...\n",
      "From (original): https://drive.google.com/uc?id=1DXvi_5cuMNIkjqWhEERPOvZEwme2EjeM\n",
      "From (redirected): https://drive.google.com/uc?id=1DXvi_5cuMNIkjqWhEERPOvZEwme2EjeM&confirm=t&uuid=bf890241-a627-4885-a7ab-2f2c9aebdae4\n",
      "To: c:\\Users\\harsh\\OneDrive\\Desktop\\Job\\ResumeProjects\\SterileBrowsing\\SterileBrowsingMedicalImgs\\artifacts\\data_ingestion\\Dataset.zip\n",
      "100%|██████████| 51.7M/51.7M [00:00<00:00, 55.4MB/s]"
     ]
    },
    {
     "name": "stdout",
     "output_type": "stream",
     "text": [
      "[2024-10-28 18:15:05,012: INFO: 1085507142{C:\\Users\\harsh\\AppData\\Local\\Temp\\ipykernel_20260\\1085507142.py: Downloading fileartifacts/data_ingestion/Dataset.zip]\n"
     ]
    },
    {
     "name": "stderr",
     "output_type": "stream",
     "text": [
      "\n"
     ]
    }
   ],
   "source": [
    "try:\n",
    "    config = ConfigManager()\n",
    "    data_ingestion_config = config.get_data_ingestion_config()\n",
    "    data_ingestion = DataIngestion(data_ingestion_config)\n",
    "    data_ingestion.download_file()\n",
    "    data_ingestion.extract_zip_file()\n",
    "except Exception as e:\n",
    "    raise e\n"
   ]
  },
  {
   "cell_type": "code",
   "execution_count": null,
   "metadata": {},
   "outputs": [],
   "source": []
  }
 ],
 "metadata": {
  "kernelspec": {
   "display_name": "py310TFGPU",
   "language": "python",
   "name": "python3"
  },
  "language_info": {
   "codemirror_mode": {
    "name": "ipython",
    "version": 3
   },
   "file_extension": ".py",
   "mimetype": "text/x-python",
   "name": "python",
   "nbconvert_exporter": "python",
   "pygments_lexer": "ipython3",
   "version": "3.10.15"
  }
 },
 "nbformat": 4,
 "nbformat_minor": 2
}
