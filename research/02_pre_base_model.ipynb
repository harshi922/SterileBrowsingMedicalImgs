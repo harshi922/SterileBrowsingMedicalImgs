{
 "cells": [
  {
   "cell_type": "code",
   "execution_count": 2,
   "metadata": {},
   "outputs": [],
   "source": [
    "import os"
   ]
  },
  {
   "cell_type": "code",
   "execution_count": 3,
   "metadata": {},
   "outputs": [],
   "source": [
    "os.chdir('../')"
   ]
  },
  {
   "cell_type": "code",
   "execution_count": 4,
   "metadata": {},
   "outputs": [
    {
     "data": {
      "text/plain": [
       "'c:\\\\Users\\\\harsh\\\\OneDrive\\\\Desktop\\\\Job\\\\ResumeProjects\\\\SterileBrowsing\\\\SterileBrowsingMedicalImgs'"
      ]
     },
     "execution_count": 4,
     "metadata": {},
     "output_type": "execute_result"
    }
   ],
   "source": [
    "%pwd"
   ]
  },
  {
   "cell_type": "code",
   "execution_count": 5,
   "metadata": {},
   "outputs": [],
   "source": [
    "from dataclasses import dataclass\n",
    "from pathlib import Path\n",
    "\n",
    "\n",
    "@dataclass(frozen=True)\n",
    "class PrepareBaseModelConfig:\n",
    "    root_dir: Path\n",
    "    base_model_path: Path\n",
    "    params_image_size: list\n",
    "    params_batch_size: int\n",
    "    params_classes: int\n",
    "    params_loss: str\n",
    "    params_metrics: list\n",
    "    params_epochs: int\n"
   ]
  },
  {
   "cell_type": "code",
   "execution_count": 6,
   "metadata": {},
   "outputs": [],
   "source": [
    "from cnnImageClassification.constants import *\n",
    "from cnnImageClassification.utils.common import read_yaml, create_directories"
   ]
  },
  {
   "cell_type": "code",
   "execution_count": 7,
   "metadata": {},
   "outputs": [],
   "source": [
    "class ConfigManager:\n",
    "    def __init__(\n",
    "            self, \n",
    "            config_filepath=CONFIG_FILE_PATH,\n",
    "            params_filepath=PARAMS_FILE_PATH):\n",
    "        self.config = read_yaml(config_filepath)\n",
    "        self.params = read_yaml(params_filepath)\n",
    "        create_directories([self.config.artifacts_root]) \n",
    "    \n",
    "    def get_prep_base_model_config(self) -> PrepareBaseModelConfig:\n",
    "        config = self.config.prepare_base_model\n",
    "        create_directories([config.root_dir])\n",
    "\n",
    "        return PrepareBaseModelConfig(\n",
    "            root_dir=Path(config.root_dir),\n",
    "            base_model_path=Path(config.base_model_path),\n",
    "            params_image_size=self.params.IMAGE_SIZE,\n",
    "            params_batch_size=self.params.BATCH_SIZE,\n",
    "            params_classes=self.params.CLASSES,\n",
    "            params_loss=self.params.LOSS,\n",
    "            params_metrics=self.params.METRICS,\n",
    "            params_epochs=self.params.EPOCHS  # Ensure this line is added\n",
    "        )\n"
   ]
  },
  {
   "cell_type": "code",
   "execution_count": 8,
   "metadata": {},
   "outputs": [],
   "source": [
    "import os\n",
    "import urllib.request as request\n",
    "import zipfile as ZipFile\n",
    "import tensorflow as tf"
   ]
  },
  {
   "cell_type": "code",
   "execution_count": 9,
   "metadata": {},
   "outputs": [],
   "source": [
    "from tensorflow.keras.models import Sequential\n",
    "from tensorflow.keras.layers import Dense, Dropout, Flatten, BatchNormalization\n",
    "from tensorflow.keras.layers import Activation, Dropout\n",
    "from tensorflow.keras.layers import Conv2D, MaxPooling2D\n",
    "from tensorflow.keras import backend as K\n",
    "from tensorflow.keras.optimizers import Adam"
   ]
  },
  {
   "cell_type": "code",
   "execution_count": 10,
   "metadata": {},
   "outputs": [],
   "source": [
    "class PrepareBaseModel:\n",
    "    def __init__(self, config: PrepareBaseModelConfig):\n",
    "        self.config = config\n",
    "\n",
    "\n",
    "    \n",
    "    def define_base_model(self):\n",
    "        self.model = Sequential([\n",
    "                Conv2D(32, kernel_size=(3, 3), activation='relu', input_shape=(self.config.params_image_size[0], self.config.params_image_size[1], self.config.params_image_size[2])),\n",
    "                BatchNormalization(),\n",
    "                MaxPooling2D(pool_size=(2, 2)),\n",
    "                Dropout(0.25),\n",
    "                \n",
    "                Conv2D(64, kernel_size=(3, 3), activation='relu'),\n",
    "                BatchNormalization(),\n",
    "                MaxPooling2D(pool_size=(2, 2)),\n",
    "                Dropout(0.25),\n",
    "                \n",
    "                Flatten(),\n",
    "                Dense(128, activation='relu'),  # Fully connected layer\n",
    "                Dropout(0.5),\n",
    "                \n",
    "            ])\n",
    "\n",
    "        self.save_model(path=self.config.base_model_path, model=self.model)\n",
    "\n",
    "\n",
    "    \n",
    "    @staticmethod\n",
    "    def _prepare_full_model(model, classes, loss, epochs, metrics,batch_size):\n",
    "      \n",
    "        prediction = Dense(units=classes, activation=\"softmax\")(model.output)\n",
    "        full_model = tf.keras.Model(inputs=model.input, outputs=prediction)\n",
    "\n",
    "        # Compile the model\n",
    "        full_model.compile(\n",
    "            optimizer=Adam(),\n",
    "            loss=loss,\n",
    "            metrics=metrics\n",
    "        )\n",
    "\n",
    "        full_model.summary()\n",
    "        return full_model\n",
    "    \n",
    "\n",
    "    def create_base_model(self):\n",
    "        self.full_model = self._prepare_full_model(\n",
    "            model=self.model,\n",
    "            classes=self.config.params_classes,\n",
    "            loss=self.config.params_loss,\n",
    "            epochs=self.config.params_epochs,\n",
    "            metrics=self.config.params_metrics,\n",
    "            batch_size=self.config.params_batch_size\n",
    "        )\n",
    "\n",
    "        self.save_model(path=self.config.base_model_path, model=self.full_model)\n",
    "\n",
    "    \n",
    "    @staticmethod\n",
    "    def save_model(path: Path, model: tf.keras.Model):\n",
    "        model.save(path)"
   ]
  },
  {
   "cell_type": "code",
   "execution_count": 11,
   "metadata": {},
   "outputs": [
    {
     "name": "stdout",
     "output_type": "stream",
     "text": [
      "[2024-10-28 15:18:49,183: INFO: common{c:\\users\\harsh\\onedrive\\desktop\\job\\resumeprojects\\sterilebrowsing\\sterilebrowsingmedicalimgs\\src\\cnnImageClassification\\utils\\common.py: Reading yaml file from config\\config.yaml loaded suucessfully]\n",
      "[2024-10-28 15:18:49,191: INFO: common{c:\\users\\harsh\\onedrive\\desktop\\job\\resumeprojects\\sterilebrowsing\\sterilebrowsingmedicalimgs\\src\\cnnImageClassification\\utils\\common.py: Reading yaml file from params.yaml loaded suucessfully]\n",
      "[2024-10-28 15:18:49,191: INFO: common{c:\\users\\harsh\\onedrive\\desktop\\job\\resumeprojects\\sterilebrowsing\\sterilebrowsingmedicalimgs\\src\\cnnImageClassification\\utils\\common.py: Directory created at artifacts]\n",
      "[2024-10-28 15:18:49,199: INFO: common{c:\\users\\harsh\\onedrive\\desktop\\job\\resumeprojects\\sterilebrowsing\\sterilebrowsingmedicalimgs\\src\\cnnImageClassification\\utils\\common.py: Directory created at artifacts/prepare_base_model]\n",
      "[2024-10-28 15:18:50,406: WARNING: saving_utils{c:\\Users\\harsh\\anaconda3\\envs\\py310TFGPU\\lib\\site-packages\\keras\\saving\\saving_utils.py: Compiled the loaded model, but the compiled metrics have yet to be built. `model.compile_metrics` will be empty until you train or evaluate the model.]\n",
      "Model: \"model\"\n",
      "_________________________________________________________________\n",
      " Layer (type)                Output Shape              Param #   \n",
      "=================================================================\n",
      " conv2d_input (InputLayer)   [(None, 100, 120, 1)]     0         \n",
      "                                                                 \n",
      " conv2d (Conv2D)             (None, 98, 118, 32)       320       \n",
      "                                                                 \n",
      " batch_normalization (BatchN  (None, 98, 118, 32)      128       \n",
      " ormalization)                                                   \n",
      "                                                                 \n",
      " max_pooling2d (MaxPooling2D  (None, 49, 59, 32)       0         \n",
      " )                                                               \n",
      "                                                                 \n",
      " dropout (Dropout)           (None, 49, 59, 32)        0         \n",
      "                                                                 \n",
      " conv2d_1 (Conv2D)           (None, 47, 57, 64)        18496     \n",
      "                                                                 \n",
      " batch_normalization_1 (Batc  (None, 47, 57, 64)       256       \n",
      " hNormalization)                                                 \n",
      "                                                                 \n",
      " max_pooling2d_1 (MaxPooling  (None, 23, 28, 64)       0         \n",
      " 2D)                                                             \n",
      "                                                                 \n",
      " dropout_1 (Dropout)         (None, 23, 28, 64)        0         \n",
      "                                                                 \n",
      " flatten (Flatten)           (None, 41216)             0         \n",
      "                                                                 \n",
      " dense (Dense)               (None, 128)               5275776   \n",
      "                                                                 \n",
      " dropout_2 (Dropout)         (None, 128)               0         \n",
      "                                                                 \n",
      " dense_1 (Dense)             (None, 6)                 774       \n",
      "                                                                 \n",
      "=================================================================\n",
      "Total params: 5,295,750\n",
      "Trainable params: 5,295,558\n",
      "Non-trainable params: 192\n",
      "_________________________________________________________________\n"
     ]
    }
   ],
   "source": [
    "try:\n",
    "    config = ConfigManager()\n",
    "    prepare_base_model_config = config.get_prep_base_model_config()\n",
    "    prepare_base_model = PrepareBaseModel(config=prepare_base_model_config)\n",
    "    prepare_base_model.define_base_model()\n",
    "    prepare_base_model.create_base_model()\n",
    "except Exception as e:\n",
    "    raise e"
   ]
  },
  {
   "cell_type": "code",
   "execution_count": null,
   "metadata": {},
   "outputs": [],
   "source": []
  }
 ],
 "metadata": {
  "kernelspec": {
   "display_name": "py310TFGPU",
   "language": "python",
   "name": "python3"
  },
  "language_info": {
   "codemirror_mode": {
    "name": "ipython",
    "version": 3
   },
   "file_extension": ".py",
   "mimetype": "text/x-python",
   "name": "python",
   "nbconvert_exporter": "python",
   "pygments_lexer": "ipython3",
   "version": "3.10.15"
  }
 },
 "nbformat": 4,
 "nbformat_minor": 2
}
