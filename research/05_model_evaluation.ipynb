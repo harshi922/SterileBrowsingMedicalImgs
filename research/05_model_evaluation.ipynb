{
 "cells": [
  {
   "cell_type": "code",
   "execution_count": 1,
   "metadata": {},
   "outputs": [
    {
     "name": "stdout",
     "output_type": "stream",
     "text": [
      "Available GPUs:\n",
      "PhysicalDevice(name='/physical_device:GPU:0', device_type='GPU')\n"
     ]
    }
   ],
   "source": [
    "import tensorflow as tf\n",
    "\n",
    "# List all GPUs\n",
    "gpus = tf.config.list_physical_devices('GPU')\n",
    "print(\"Available GPUs:\")\n",
    "for gpu in gpus:\n",
    "    print(gpu)"
   ]
  },
  {
   "cell_type": "code",
   "execution_count": 3,
   "metadata": {},
   "outputs": [
    {
     "data": {
      "text/plain": [
       "'c:\\\\Users\\\\harsh\\\\OneDrive\\\\Desktop\\\\Job\\\\ResumeProjects\\\\SterileBrowsing\\\\SterileBrowsingMedicalImgs'"
      ]
     },
     "execution_count": 3,
     "metadata": {},
     "output_type": "execute_result"
    }
   ],
   "source": [
    "import os\n",
    "os.chdir(\"../\")\n",
    "%pwd"
   ]
  },
  {
   "cell_type": "code",
   "execution_count": null,
   "metadata": {},
   "outputs": [],
   "source": [
    "import tensorflow as tf"
   ]
  },
  {
   "cell_type": "code",
   "execution_count": 4,
   "metadata": {},
   "outputs": [],
   "source": [
    "model = tf.keras.models.load_model(\"artifacts/training/model.h5\")"
   ]
  },
  {
   "cell_type": "code",
   "execution_count": 5,
   "metadata": {},
   "outputs": [],
   "source": [
    "from dataclasses import dataclass\n",
    "from pathlib import Path\n",
    "\n",
    "\n",
    "@dataclass(frozen=True)\n",
    "class EvaluationConfig:\n",
    "    path_of_model: Path\n",
    "    training_data: Path\n",
    "    all_params: dict\n",
    "    params_image_size: list\n",
    "    params_batch_size: int"
   ]
  },
  {
   "cell_type": "code",
   "execution_count": 7,
   "metadata": {},
   "outputs": [],
   "source": [
    "from cnnImageClassification.constants import *\n",
    "from cnnImageClassification.utils.common import create_directories, save_json, read_yaml "
   ]
  },
  {
   "cell_type": "code",
   "execution_count": 8,
   "metadata": {},
   "outputs": [],
   "source": [
    "class ConfigurationManager:\n",
    "    def __init__(\n",
    "        self, \n",
    "        config_filepath = CONFIG_FILE_PATH,\n",
    "        params_filepath = PARAMS_FILE_PATH):\n",
    "        self.config = read_yaml(config_filepath)\n",
    "        self.params = read_yaml(params_filepath)\n",
    "        create_directories([self.config.artifacts_root])\n",
    "\n",
    "    \n",
    "    def get_validation_config(self) -> EvaluationConfig:\n",
    "        eval_config = EvaluationConfig(\n",
    "            path_of_model=Path(\"artifacts/training/model.h5\")\n",
    "            training_data=Path(\"artifacts/data_ingestion/GestureDataset/data\"),\n",
    "            all_params=self.params,\n",
    "            params_image_size=self.params.IMAGE_SIZE,\n",
    "            params_batch_size=self.params.BATCH_SIZE\n",
    "        )\n",
    "        return eval_config"
   ]
  },
  {
   "cell_type": "code",
   "execution_count": 12,
   "metadata": {},
   "outputs": [],
   "source": [
    "from urllib.parse import urlparse\n",
    "import numpy as np\n",
    "import os\n",
    "import glob\n",
    "import cv2\n",
    "from sklearn.model_selection import train_test_split\n"
   ]
  },
  {
   "cell_type": "code",
   "execution_count": 13,
   "metadata": {},
   "outputs": [],
   "source": [
    "class Evaluation:\n",
    "    def __init__(self, config: EvaluationConfig):\n",
    "        self.config = config\n",
    "\n",
    "    \n",
    "    def generate_test_set(self):\n",
    "\n",
    "        dataset_root = self.config.training_data\n",
    "\n",
    "        max_images_per_gesture = 1600\n",
    "        loaded_images = []\n",
    "        output_vectors = []\n",
    "\n",
    "        # List of gesture folders (0 to 5)\n",
    "        \n",
    "        list_of_gestures = ['blank', 'ok', 'thumbsup', 'thumbsdown', 'fist', 'five']\n",
    "\n",
    "        # Load images and create one-hot encoded labels\n",
    "        for gesture in list_of_gestures:\n",
    "            # Construct the path to the current gesture folder\n",
    "            gesture_path = os.path.join(dataset_root, gesture, '*')\n",
    "            gest_image_paths = glob.glob(gesture_path)\n",
    "            \n",
    "            # Load images and resize them\n",
    "            for i, image_path in enumerate(gest_image_paths):\n",
    "                if i < max_images_per_gesture:\n",
    "                    image = cv2.imread(image_path)\n",
    "                    gray_image = cv2.cvtColor(image, cv2.COLOR_BGR2GRAY)\n",
    "                    gray_image = cv2.resize(gray_image, (100, 120))\n",
    "                    loaded_images.append(gray_image)\n",
    "                    \n",
    "                    # Create the one-hot encoded output vector\n",
    "                    one_hot_vector = [0] * len(list_of_gestures)  # Initialize vector with zeros\n",
    "                    gesture_index = list_of_gestures.index(gesture)\n",
    "                    one_hot_vector[gesture_index] = 1  # Set the index corresponding to the current gesture to 1\n",
    "                    output_vectors.append(one_hot_vector)\n",
    "        self.X = np.array(loaded_images)\n",
    "        self.y = np.array(output_vectors)\n",
    "        print(self.X.shape)\n",
    "        # Split data into training and testing sets\n",
    "        self.X_train, self.X_test, self.y_train, self.y_test = train_test_split(\n",
    "            self.X, self.y, test_size=0.2, random_state=4\n",
    "        )\n",
    "\n",
    "        # Reshape the data\n",
    "        self.X_train = self.X_train.reshape(\n",
    "            self.X_train.shape[0],\n",
    "            self.config.params_image_size[0],\n",
    "            self.config.params_image_size[1],\n",
    "            self.config.params_image_size[2]\n",
    "        )\n",
    "        self.X_test = self.X_test.reshape(\n",
    "            self.X_test.shape[0],\n",
    "            self.config.params_image_size[0],\n",
    "            self.config.params_image_size[1],\n",
    "            self.config.params_image_size[2]\n",
    "        )\n",
    "\n",
    "    \n",
    "    @staticmethod\n",
    "    def load_model(path: Path) -> tf.keras.Model:\n",
    "        return tf.keras.models.load_model(path)\n",
    "    \n",
    "\n",
    "    def evaluation(self):\n",
    "        self.model = self.load_model(self.config.path_of_model)\n",
    "        self.generate_test_set()\n",
    "        self.score = model.evaluate(self.X_test,self.y_test,verbose=1)\n",
    "\n",
    "    \n",
    "    def save_score(self):\n",
    "        scores = {\"loss\": self.score[0], \"accuracy\": self.score[1]}\n",
    "        save_json(path=Path(\"scores.json\"), data=scores)"
   ]
  },
  {
   "cell_type": "code",
   "execution_count": 14,
   "metadata": {},
   "outputs": [
    {
     "name": "stdout",
     "output_type": "stream",
     "text": [
      "[2024-10-28 18:32:59,247: INFO: common{c:\\users\\harsh\\onedrive\\desktop\\job\\resumeprojects\\sterilebrowsing\\sterilebrowsingmedicalimgs\\src\\cnnImageClassification\\utils\\common.py: Reading yaml file from config\\config.yaml loaded suucessfully]\n",
      "[2024-10-28 18:32:59,247: INFO: common{c:\\users\\harsh\\onedrive\\desktop\\job\\resumeprojects\\sterilebrowsing\\sterilebrowsingmedicalimgs\\src\\cnnImageClassification\\utils\\common.py: Reading yaml file from params.yaml loaded suucessfully]\n",
      "[2024-10-28 18:32:59,247: INFO: common{c:\\users\\harsh\\onedrive\\desktop\\job\\resumeprojects\\sterilebrowsing\\sterilebrowsingmedicalimgs\\src\\cnnImageClassification\\utils\\common.py: Directory created at artifacts]\n",
      "(9600, 120, 100)\n",
      "60/60 [==============================] - 13s 9ms/step - loss: 0.0487 - categorical_accuracy: 0.9797\n",
      "[2024-10-28 18:33:22,954: INFO: common{c:\\users\\harsh\\onedrive\\desktop\\job\\resumeprojects\\sterilebrowsing\\sterilebrowsingmedicalimgs\\src\\cnnImageClassification\\utils\\common.py: Json file saved at scores.json]\n"
     ]
    }
   ],
   "source": [
    "try:\n",
    "    config = ConfigurationManager()\n",
    "    val_config = config.get_validation_config()\n",
    "    evaluation = Evaluation(val_config)\n",
    "    evaluation.evaluation()\n",
    "    evaluation.save_score()\n",
    "\n",
    "except Exception as e:\n",
    "   raise e"
   ]
  },
  {
   "cell_type": "code",
   "execution_count": null,
   "metadata": {},
   "outputs": [],
   "source": []
  }
 ],
 "metadata": {
  "kernelspec": {
   "display_name": "py310TFGPU",
   "language": "python",
   "name": "python3"
  },
  "language_info": {
   "codemirror_mode": {
    "name": "ipython",
    "version": 3
   },
   "file_extension": ".py",
   "mimetype": "text/x-python",
   "name": "python",
   "nbconvert_exporter": "python",
   "pygments_lexer": "ipython3",
   "version": "3.10.15"
  }
 },
 "nbformat": 4,
 "nbformat_minor": 2
}
